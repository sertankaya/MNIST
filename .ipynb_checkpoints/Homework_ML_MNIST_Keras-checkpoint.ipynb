{
 "cells": [
  {
   "cell_type": "code",
   "execution_count": 1,
   "metadata": {},
   "outputs": [
    {
     "name": "stderr",
     "output_type": "stream",
     "text": [
      "Using TensorFlow backend.\n"
     ]
    }
   ],
   "source": [
    "import keras\n",
    "from keras.datasets import mnist\n",
    "from keras.models import Sequential, Model\n",
    "from keras.layers import Dense, Dropout, Flatten, concatenate, Activation\n",
    "from keras.layers import Conv2D, MaxPooling2D\n",
    "from keras.layers import Input, Dense, Permute, Reshape\n",
    "from keras.optimizers import Adam\n",
    "from keras.regularizers import l2\n",
    "import numpy as np\n",
    "import cv2\n",
    "import matplotlib.pyplot as plt"
   ]
  },
  {
   "cell_type": "code",
   "execution_count": 2,
   "metadata": {},
   "outputs": [
    {
     "name": "stdout",
     "output_type": "stream",
     "text": [
      "x_train shape: (60000, 28, 28, 1)\n",
      "60000 train samples\n",
      "10000 test samples\n"
     ]
    }
   ],
   "source": [
    "batch_size = 128\n",
    "num_classes = 10\n",
    "epochs = 2\n",
    "learning_rate = 0.001\n",
    "\n",
    "# input image dimensions\n",
    "img_rows, img_cols = 28, 28\n",
    "input_shape = (28, 28,1)\n",
    "\n",
    "# the data, split between train and test sets\n",
    "(x_train, y_train), (x_test, y_test) = mnist.load_data()\n",
    "\n",
    "x_train = x_train.reshape(60000,28,28,1)\n",
    "x_test = x_test.reshape(10000,28,28,1)\n",
    "\n",
    "x_train = x_train.astype('float32')\n",
    "x_test = x_test.astype('float32')\n",
    "\n",
    "# normalize inputs from 0-255 to 0-1\n",
    "x_train/=255\n",
    "x_test/=255\n",
    "\n",
    "print('x_train shape:', x_train.shape)\n",
    "print(x_train.shape[0], 'train samples')\n",
    "print(x_test.shape[0], 'test samples')\n",
    "\n",
    "# convert class vectors to binary class matrices\n",
    "y_train = keras.utils.to_categorical(y_train, num_classes)\n",
    "y_test = keras.utils.to_categorical(y_test, num_classes)"
   ]
  },
  {
   "cell_type": "code",
   "execution_count": 3,
   "metadata": {},
   "outputs": [],
   "source": [
    "def share_stream(x_shape):\n",
    "    #x = Input(shape=x_shape)\n",
    "    x=x_shape\n",
    "\n",
    "    conv1 = Conv2D(filters=64, kernel_size=(3, 3), strides=(1, 1), padding='same')(x)\n",
    "    conv1 = Activation('relu')(conv1)\n",
    "    conv1 = MaxPooling2D(pool_size=(2, 2), strides=(2, 2), padding='same')(conv1)\n",
    "\n",
    "    conv2 = Conv2D(filters=512, kernel_size=(3, 3), strides=(1, 1), padding='same')(conv1)\n",
    "    conv2 = Activation('relu')(conv2)\n",
    "    conv2 = MaxPooling2D(pool_size=(2, 2), strides=(2, 2), padding='same')(conv2)\n",
    "\n",
    "    #shared_layer = Model(x, conv2)\n",
    "    return conv2 #shared_layer"
   ]
  },
  {
   "cell_type": "code",
   "execution_count": 4,
   "metadata": {},
   "outputs": [],
   "source": [
    "def model(input_shape):\n",
    "    \n",
    "    inputs = Input(shape=input_shape)\n",
    "    #print(\"INPUTs:\", inputs.shape)\n",
    "\n",
    "    Conv1 = Conv2D(32, (3, 3),activation='relu', padding='same')(inputs)\n",
    "    Conv1 = MaxPooling2D(pool_size=(2, 2), strides=(2, 2), padding='same')(Conv1)\n",
    "\n",
    "    Conv3_1 = share_stream(x_shape=Conv1)\n",
    "    Conv3_2 = share_stream(x_shape=Conv1)\n",
    "\n",
    "    cnn_out = concatenate([Conv3_1, Conv3_2])\n",
    "    \n",
    "    cnn_out_flat = Flatten()(cnn_out)\n",
    "    \n",
    "    fc_1 = Dense(units=1000, activation='relu')(cnn_out_flat)   \n",
    "    #fc_1 = Dropout(0.2)(fc_1)\n",
    "\n",
    "    fc_2 = Dense(units=500, activation='relu')(fc_1)    \n",
    "    fc_2 = Dropout(0.2)(fc_2)\n",
    "\n",
    "    output_layer = Dense(units=num_classes, activation='softmax')(fc_2)\n",
    "\n",
    "    network = Model(input=inputs, outputs=output_layer)\n",
    "    return network"
   ]
  },
  {
   "cell_type": "code",
   "execution_count": 5,
   "metadata": {},
   "outputs": [],
   "source": [
    "def train_model(network):\n",
    "    adam = Adam(lr=0.001, beta_1=0.9, beta_2=0.999, epsilon=1e-08)\n",
    "    network.compile(loss='categorical_crossentropy', optimizer=adam, metrics=['accuracy'])\n",
    "    network.summary()\n",
    "    #print(\"x_train shape\", x_train.shape)\n",
    "    #print(\"y_train shape\", y_train.shape)\n",
    "    #print(\"x_test shape\", x_test.shape)\n",
    "    #print(\"y_test shape\", y_test.shape)\n",
    "    network.fit(x_train, y_train, batch_size=batch_size, epochs=epochs, verbose=1, validation_data=(x_test, y_test))\n",
    "    score = network.evaluate(x_test, y_test, verbose=0)\n",
    "    print('Test loss:', score[0])\n",
    "    print('Test accuracy:', score[1])\n",
    "    # Save the model\n",
    "    network.save('postmates_x.h5')\n",
    "    json_config = network.to_json()\n",
    "    return json_config"
   ]
  },
  {
   "cell_type": "code",
   "execution_count": 6,
   "metadata": {},
   "outputs": [
    {
     "name": "stderr",
     "output_type": "stream",
     "text": [
      "C:\\Users\\Sertan\\Anaconda3\\envs\\sim_test\\lib\\site-packages\\ipykernel_launcher.py:24: UserWarning: Update your `Model` call to the Keras 2 API: `Model(outputs=Tensor(\"de..., inputs=Tensor(\"in...)`\n"
     ]
    }
   ],
   "source": [
    "network = model(input_shape)"
   ]
  },
  {
   "cell_type": "code",
   "execution_count": 7,
   "metadata": {},
   "outputs": [
    {
     "name": "stdout",
     "output_type": "stream",
     "text": [
      "__________________________________________________________________________________________________\n",
      "Layer (type)                    Output Shape         Param #     Connected to                     \n",
      "==================================================================================================\n",
      "input_1 (InputLayer)            (None, 28, 28, 1)    0                                            \n",
      "__________________________________________________________________________________________________\n",
      "conv2d_1 (Conv2D)               (None, 28, 28, 32)   320         input_1[0][0]                    \n",
      "__________________________________________________________________________________________________\n",
      "max_pooling2d_1 (MaxPooling2D)  (None, 14, 14, 32)   0           conv2d_1[0][0]                   \n",
      "__________________________________________________________________________________________________\n",
      "conv2d_2 (Conv2D)               (None, 14, 14, 64)   18496       max_pooling2d_1[0][0]            \n",
      "__________________________________________________________________________________________________\n",
      "conv2d_4 (Conv2D)               (None, 14, 14, 64)   18496       max_pooling2d_1[0][0]            \n",
      "__________________________________________________________________________________________________\n",
      "activation_1 (Activation)       (None, 14, 14, 64)   0           conv2d_2[0][0]                   \n",
      "__________________________________________________________________________________________________\n",
      "activation_3 (Activation)       (None, 14, 14, 64)   0           conv2d_4[0][0]                   \n",
      "__________________________________________________________________________________________________\n",
      "max_pooling2d_2 (MaxPooling2D)  (None, 7, 7, 64)     0           activation_1[0][0]               \n",
      "__________________________________________________________________________________________________\n",
      "max_pooling2d_4 (MaxPooling2D)  (None, 7, 7, 64)     0           activation_3[0][0]               \n",
      "__________________________________________________________________________________________________\n",
      "conv2d_3 (Conv2D)               (None, 7, 7, 512)    295424      max_pooling2d_2[0][0]            \n",
      "__________________________________________________________________________________________________\n",
      "conv2d_5 (Conv2D)               (None, 7, 7, 512)    295424      max_pooling2d_4[0][0]            \n",
      "__________________________________________________________________________________________________\n",
      "activation_2 (Activation)       (None, 7, 7, 512)    0           conv2d_3[0][0]                   \n",
      "__________________________________________________________________________________________________\n",
      "activation_4 (Activation)       (None, 7, 7, 512)    0           conv2d_5[0][0]                   \n",
      "__________________________________________________________________________________________________\n",
      "max_pooling2d_3 (MaxPooling2D)  (None, 4, 4, 512)    0           activation_2[0][0]               \n",
      "__________________________________________________________________________________________________\n",
      "max_pooling2d_5 (MaxPooling2D)  (None, 4, 4, 512)    0           activation_4[0][0]               \n",
      "__________________________________________________________________________________________________\n",
      "concatenate_1 (Concatenate)     (None, 4, 4, 1024)   0           max_pooling2d_3[0][0]            \n",
      "                                                                 max_pooling2d_5[0][0]            \n",
      "__________________________________________________________________________________________________\n",
      "flatten_1 (Flatten)             (None, 16384)        0           concatenate_1[0][0]              \n",
      "__________________________________________________________________________________________________\n",
      "dense_1 (Dense)                 (None, 1000)         16385000    flatten_1[0][0]                  \n",
      "__________________________________________________________________________________________________\n",
      "dense_2 (Dense)                 (None, 500)          500500      dense_1[0][0]                    \n",
      "__________________________________________________________________________________________________\n",
      "dropout_1 (Dropout)             (None, 500)          0           dense_2[0][0]                    \n",
      "__________________________________________________________________________________________________\n",
      "dense_3 (Dense)                 (None, 10)           5010        dropout_1[0][0]                  \n",
      "==================================================================================================\n",
      "Total params: 17,518,670\n",
      "Trainable params: 17,518,670\n",
      "Non-trainable params: 0\n",
      "__________________________________________________________________________________________________\n",
      "Train on 60000 samples, validate on 10000 samples\n",
      "Epoch 1/2\n",
      "60000/60000 [==============================] - 11424s 190ms/step - loss: 0.1496 - acc: 0.9522 - val_loss: 0.0518 - val_acc: 0.9814\n",
      "Epoch 2/2\n",
      "60000/60000 [==============================] - 11410s 190ms/step - loss: 0.0423 - acc: 0.9879 - val_loss: 0.0251 - val_acc: 0.9918\n",
      "Test loss: 0.025084444355724555\n",
      "Test accuracy: 0.9918\n"
     ]
    }
   ],
   "source": [
    "conf=train_model(network)"
   ]
  },
  {
   "cell_type": "markdown",
   "metadata": {},
   "source": [
    "### Testing Accuracy "
   ]
  },
  {
   "cell_type": "code",
   "execution_count": 8,
   "metadata": {},
   "outputs": [
    {
     "name": "stdout",
     "output_type": "stream",
     "text": [
      "Test loss: 0.025084444355724555\n",
      "Test accuracy: 0.9918\n"
     ]
    }
   ],
   "source": [
    "# Testing all images to get the accuracy\n",
    "score = network.evaluate(x_test, y_test, verbose=0)\n",
    "print('Test loss:', score[0])\n",
    "print('Test accuracy:', score[1])"
   ]
  },
  {
   "cell_type": "markdown",
   "metadata": {},
   "source": [
    "### TEST IMAGES for trained network"
   ]
  },
  {
   "cell_type": "code",
   "execution_count": 9,
   "metadata": {},
   "outputs": [
    {
     "data": {
      "image/png": "[encoded data removed]",
      "text/plain": [
       "<Figure size 432x288 with 1 Axes>"
      ]
     },
     "metadata": {},
     "output_type": "display_data"
    }
   ],
   "source": [
    "img = cv2.imread(\".\\\\test_images\\\\mnist_test_1.png\",0)\n",
    "fig, ax = plt.subplots(ncols=1, nrows=1)  ###\n",
    "ax.imshow(img)\n",
    "plt.title(\"Test case image\")\n",
    "plt.show()"
   ]
  },
  {
   "cell_type": "markdown",
   "metadata": {},
   "source": [
    "### Prediction of the test image"
   ]
  },
  {
   "cell_type": "code",
   "execution_count": 10,
   "metadata": {},
   "outputs": [
    {
     "name": "stdout",
     "output_type": "stream",
     "text": [
      "Predicted test case image: 5\n"
     ]
    }
   ],
   "source": [
    "# Do prediction\n",
    "img = cv2.imread(\".\\\\test_images\\\\mnist_test_1.png\",0)\n",
    "img = img.astype('float32')/255\n",
    "img = cv2.resize(img, (28,28))\n",
    "img = np.reshape(img, (28,28,1))\n",
    "\n",
    "prediction = network.predict(np.array([img,]))\n",
    "result=prediction.argmax()\n",
    "print(\"Predicted test case image: {}\".format(result))"
   ]
  },
  {
   "cell_type": "code",
   "execution_count": null,
   "metadata": {},
   "outputs": [],
   "source": [
    "#######################################################33"
   ]
  }
 ],
 "metadata": {
  "kernelspec": {
   "display_name": "Python 3",
   "language": "python",
   "name": "python3"
  },
  "language_info": {
   "codemirror_mode": {
    "name": "ipython",
    "version": 3
   },
   "file_extension": ".py",
   "mimetype": "text/x-python",
   "name": "python",
   "nbconvert_exporter": "python",
   "pygments_lexer": "ipython3",
   "version": "3.6.6"
  }
 },
 "nbformat": 4,
 "nbformat_minor": 2
}
